{
  "cells": [
    {
      "cell_type": "code",
      "execution_count": null,
      "metadata": {
        "colab": {
          "base_uri": "https://localhost:8080/"
        },
        "id": "uKbFVzwmy6Z_",
        "outputId": "908b30bc-599b-4635-985b-f17182a726ab"
      },
      "outputs": [
        {
          "output_type": "stream",
          "name": "stdout",
          "text": [
            "BFS Order: ['A', 'B', 'C', 'D', 'E', 'F']\n"
          ]
        }
      ],
      "source": [
        "def bfs(graph, start):\n",
        "    visited = []\n",
        "    queue = [start]\n",
        "\n",
        "    while queue:\n",
        "        node = queue.pop(0)\n",
        "\n",
        "        if node not in visited:\n",
        "            visited.append(node)\n",
        "\n",
        "\n",
        "            for neighbor in graph[node]:\n",
        "                if neighbor not in visited and neighbor not in queue:\n",
        "                    queue.append(neighbor)\n",
        "\n",
        "    return visited\n",
        "\n",
        "\n",
        "graph = {\n",
        "    'A': ['B', 'C'],\n",
        "    'B': ['D', 'E'],\n",
        "    'C': ['F'],\n",
        "    'D': [],\n",
        "    'E': ['F'],\n",
        "    'F': []\n",
        "}\n",
        "\n",
        "start_node = 'A'\n",
        "bfs_result = bfs(graph, start_node)\n",
        "print(\"BFS Order:\", bfs_result)"
      ]
    },
    {
      "cell_type": "code",
      "source": [
        "def dfs(graph, start):\n",
        "    visited = []\n",
        "    stack = [start]\n",
        "\n",
        "    while stack:\n",
        "        node = stack.pop()\n",
        "\n",
        "        if node not in visited:\n",
        "            visited.append(node)\n",
        "\n",
        "\n",
        "            for neighbor in reversed(graph[node]):\n",
        "                if neighbor not in visited:\n",
        "                    stack.append(neighbor)\n",
        "\n",
        "    return visited\n",
        "\n",
        "\n",
        "graph = {\n",
        "    'A': ['B', 'C'],\n",
        "    'B': ['D', 'Karthik'],\n",
        "    'C': ['E', 'F'],\n",
        "    'D': [],\n",
        "    'E': ['Karthik'],\n",
        "    'F': [],\n",
        "    'Karthik': ['G'],\n",
        "    'G': []\n",
        "}\n",
        "\n",
        "start_node = 'A'\n",
        "dfs_result = dfs(graph, start_node)\n",
        "print(\"DFS Order:\", dfs_result)"
      ],
      "metadata": {
        "colab": {
          "base_uri": "https://localhost:8080/"
        },
        "id": "VE0Yjw-WsUlk",
        "outputId": "0e26508a-248f-49c2-f662-d08024ab142f"
      },
      "execution_count": null,
      "outputs": [
        {
          "output_type": "stream",
          "name": "stdout",
          "text": [
            "DFS Order: ['A', 'B', 'D', 'Karthik', 'G', 'C', 'E', 'F']\n"
          ]
        }
      ]
    },
    {
      "cell_type": "code",
      "source": [
        "def dfs_limited(graph, node, limit):\n",
        "    visited = []\n",
        "    stack = [(node, 0)]\n",
        "\n",
        "    while stack:\n",
        "        current_node, depth = stack.pop()\n",
        "\n",
        "        if current_node not in visited:\n",
        "            visited.append(current_node)\n",
        "\n",
        "            if depth < limit:\n",
        "                for neighbor in reversed(graph[current_node]):\n",
        "                    stack.append((neighbor, depth + 1))\n",
        "\n",
        "    return visited\n",
        "\n",
        "def iterative_deepening_search(graph, start, max_depth):\n",
        "    for depth in range(max_depth + 1):\n",
        "        result = dfs_limited(graph, start, depth)\n",
        "        print(f\"Depth {depth}: {result}\")\n",
        "\n",
        "        if result:\n",
        "            return result\n",
        "    return None\n",
        "\n",
        "\n",
        "graph = {\n",
        "    'A': ['B', 'C'],\n",
        "    'B': ['D', 'E'],\n",
        "    'C': ['F'],\n",
        "    'D': [],\n",
        "    'E': ['F'],\n",
        "    'F': []\n",
        "}\n",
        "\n",
        "start_node = 'A'\n",
        "max_depth = 3\n",
        "ids_result = iterative_deepening_search(graph, start_node, max_depth)\n",
        "print(\"Final IDS Order:\", ids_result)"
      ],
      "metadata": {
        "colab": {
          "base_uri": "https://localhost:8080/"
        },
        "id": "ExLfW46m0HSN",
        "outputId": "ec955d52-756e-4826-9596-8e3001cd1953"
      },
      "execution_count": null,
      "outputs": [
        {
          "output_type": "stream",
          "name": "stdout",
          "text": [
            "Depth 0: ['A']\n",
            "Final IDS Order: ['A']\n"
          ]
        }
      ]
    },
    {
      "cell_type": "code",
      "source": [
        "def least_cost_search(graph, start, goal):\n",
        "\n",
        "    priority_queue = [(0, start, [])]\n",
        "    visited = set()\n",
        "\n",
        "    while priority_queue:\n",
        "\n",
        "        priority_queue.sort(key=lambda x: x[0])\n",
        "        cost, node, path = priority_queue.pop(0)\n",
        "\n",
        "        if node in visited:\n",
        "            continue\n",
        "\n",
        "        visited.add(node)\n",
        "        path = path + [node]\n",
        "\n",
        "\n",
        "        if node == goal:\n",
        "            return path, cost\n",
        "\n",
        "\n",
        "        for neighbor, edge_cost in graph.get(node, []):\n",
        "            if neighbor not in visited:\n",
        "                total_cost = cost + edge_cost\n",
        "                priority_queue.append((total_cost, neighbor, path))\n",
        "\n",
        "    return None, float('inf')\n",
        "\n",
        "\n",
        "graph = {\n",
        "    'A': [('B', 1), ('C', 4)],\n",
        "    'B': [('D', 2), ('E', 5)],\n",
        "    'C': [('F', 3)],\n",
        "    'D': [],\n",
        "    'E': [('F', 1)],\n",
        "    'F': []\n",
        "}\n",
        "\n",
        "start_node = 'A'\n",
        "goal_node = 'F'\n",
        "path, cost = least_cost_search(graph, start_node, goal_node)\n",
        "print(f\"Path: {path}, Cost: {cost}\")"
      ],
      "metadata": {
        "colab": {
          "base_uri": "https://localhost:8080/"
        },
        "id": "Gc18lapZ2tb5",
        "outputId": "db6d10ab-18ef-4a10-cd29-b6cf11e5ceba"
      },
      "execution_count": null,
      "outputs": [
        {
          "output_type": "stream",
          "name": "stdout",
          "text": [
            "Path: ['A', 'C', 'F'], Cost: 7\n"
          ]
        }
      ]
    },
    {
      "cell_type": "code",
      "source": [
        "import heapq\n",
        "\n",
        "def a_star_search(graph, start, goal, h):\n",
        "\n",
        "    priority_queue = [(0 + h(start), 0, start, [])]\n",
        "    visited = set()\n",
        "\n",
        "    while priority_queue:\n",
        "        estimated_cost, cost_so_far, node, path = heapq.heappop(priority_queue)\n",
        "\n",
        "        if node in visited:\n",
        "            continue\n",
        "\n",
        "        visited.add(node)\n",
        "        path = path + [node]\n",
        "\n",
        "\n",
        "        if node == goal:\n",
        "            return path, cost_so_far\n",
        "\n",
        "        for neighbor, edge_cost in graph.get(node, []):\n",
        "            if neighbor not in visited:\n",
        "                total_cost = cost_so_far + edge_cost\n",
        "                estimated_total_cost = total_cost + h(neighbor)\n",
        "                heapq.heappush(priority_queue, (estimated_total_cost, total_cost, neighbor, path))\n",
        "\n",
        "    return None, float('inf')\n",
        "\n",
        "graph = {\n",
        "    'A': [('B', 1), ('C', 4)],\n",
        "    'B': [('D', 2), ('E', 5)],\n",
        "    'C': [('F', 3)],\n",
        "    'D': [],\n",
        "    'E': [('F', 1)],\n",
        "    'F': []\n",
        "}\n",
        "\n",
        "def heuristic(node):\n",
        "    h_values = {\n",
        "        'A': 7,\n",
        "        'B': 6,\n",
        "        'C': 2,\n",
        "        'D': 1,\n",
        "        'E': 0,\n",
        "        'F': 0\n",
        "    }\n",
        "    return h_values.get(node, 0)\n",
        "\n",
        "start_node = 'A'\n",
        "goal_node = 'F'\n",
        "path, cost = a_star_search(graph, start_node, goal_node, heuristic)\n",
        "print(f\"Path: {path}, Cost: {cost}\")"
      ],
      "metadata": {
        "colab": {
          "base_uri": "https://localhost:8080/"
        },
        "id": "SzPTc6vl4LvC",
        "outputId": "46bb2aea-e419-49e5-d703-40dc6e8317a7"
      },
      "execution_count": null,
      "outputs": [
        {
          "output_type": "stream",
          "name": "stdout",
          "text": [
            "Path: ['A', 'B', 'E', 'F'], Cost: 7\n"
          ]
        }
      ]
    },
    {
      "cell_type": "code",
      "source": [
        "import heapq\n",
        "\n",
        "def best_first_search(graph, start, goal, h):\n",
        "\n",
        "    priority_queue = [(h(start), start, [])]\n",
        "    visited = set()\n",
        "\n",
        "    while priority_queue:\n",
        "        heuristic_value, node, path = heapq.heappop(priority_queue)\n",
        "\n",
        "        if node in visited:\n",
        "            continue\n",
        "\n",
        "        visited.add(node)\n",
        "        path = path + [node]\n",
        "\n",
        "\n",
        "        if node == goal:\n",
        "            return path\n",
        "\n",
        "\n",
        "        for neighbor, edge_cost in graph.get(node, []):\n",
        "            if neighbor not in visited:\n",
        "                heapq.heappush(priority_queue, (h(neighbor), neighbor, path))\n",
        "\n",
        "    return None\n",
        "\n",
        "graph = {\n",
        "    'A': [('B', 1), ('C', 4)],\n",
        "    'B': [('D', 2), ('E', 5)],\n",
        "    'C': [('F', 3)],\n",
        "    'D': [],\n",
        "    'E': [('F', 1)],\n",
        "    'F': []\n",
        "}\n",
        "def heuristic(node):\n",
        "    h_values = {\n",
        "        'A': 7,\n",
        "        'B': 6,\n",
        "        'C': 2,\n",
        "        'D': 1,\n",
        "        'E': 0,\n",
        "        'F': 0\n",
        "    }\n",
        "    return h_values.get(node, 0)\n",
        "\n",
        "start_node = 'A'\n",
        "goal_node = 'F'\n",
        "path = best_first_search(graph, start_node, goal_node, heuristic)\n",
        "print(f\"Path: {path}\")"
      ],
      "metadata": {
        "colab": {
          "base_uri": "https://localhost:8080/"
        },
        "id": "VsGhl3dN5oX0",
        "outputId": "94a0df7c-e579-429f-a653-151a920a09a0"
      },
      "execution_count": null,
      "outputs": [
        {
          "output_type": "stream",
          "name": "stdout",
          "text": [
            "Path: ['A', 'C', 'F']\n"
          ]
        }
      ]
    },
    {
      "cell_type": "code",
      "source": [
        "class Node:\n",
        "    def __init__(self, value=None, is_max_node=True):\n",
        "        self.value = value\n",
        "        self.children = []\n",
        "        self.is_max_node = is_max_node\n",
        "\n",
        "def minimax(node, depth, is_maximizing_player):\n",
        "    if not node.children or depth == 0:\n",
        "        return node.value\n",
        "\n",
        "    if is_maximizing_player:\n",
        "        best_value = float('-inf')\n",
        "        for child in node.children:\n",
        "            value = minimax(child, depth - 1, False)  # Recursively call minimax\n",
        "            best_value = max(best_value, value)\n",
        "        return best_value\n",
        "\n",
        "    else:\n",
        "        best_value = float('inf')\n",
        "        for child in node.children:\n",
        "            value = minimax(child, depth - 1, True)   # Recursively call minimax\n",
        "            best_value = min(best_value, value)\n",
        "        return best_value"
      ],
      "metadata": {
        "id": "bFF7hz10C94K"
      },
      "execution_count": null,
      "outputs": []
    }
  ],
  "metadata": {
    "colab": {
      "provenance": []
    },
    "kernelspec": {
      "display_name": "Python 3",
      "name": "python3"
    },
    "language_info": {
      "name": "python"
    }
  },
  "nbformat": 4,
  "nbformat_minor": 0
}